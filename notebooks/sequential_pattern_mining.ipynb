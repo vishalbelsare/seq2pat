{
 "cells": [
  {
   "cell_type": "markdown",
   "metadata": {},
   "source": [
    "# Sequential Pattern Mining\n"
   ]
  },
  {
   "cell_type": "code",
   "execution_count": 1,
   "metadata": {
    "pycharm": {
     "is_executing": false,
     "name": "#%%\n"
    }
   },
   "outputs": [],
   "source": [
    "# Make sure to install the library\n",
    "# See installation instuction at https://fidelity.github.io/seq2pat/index.html\n",
    "\n",
    "# Import Seq2Pat Library\n",
    "from sequential.seq2pat import Seq2Pat, Attribute"
   ]
  },
  {
   "cell_type": "markdown",
   "metadata": {},
   "source": [
    "## Average Constraint"
   ]
  },
  {
   "cell_type": "code",
   "execution_count": 2,
   "metadata": {
    "pycharm": {
     "is_executing": false,
     "name": "#%%\n"
    }
   },
   "outputs": [
    {
     "name": "stdout",
     "output_type": "stream",
     "text": [
      "[['A', 'D', 2]]\n"
     ]
    }
   ],
   "source": [
    "# A Seq2Pat instance can be initialized with two arguments: sequences and max_span. \n",
    "#\n",
    "# Seq2Pat Attributes\n",
    "# ------------------\n",
    "# sequences : list[list] \n",
    "#             A list of sequences each with a list of events. The event values can be all strings or all integers.\n",
    "# max_span  : Optional[int]\n",
    "#             The value for applying a built-in maximum span constraint to the length of items in mining, \n",
    "#             max_span=10 by default. This is going to avoid regular users to run into a scaling \n",
    "#             issue when data contains long sequences but no constraints are used to run the mining efficiently \n",
    "#             and practically. Power users can choose to drop this constraint by setting it to be None \n",
    "#             or increase the maximum span as the system has resources to support.\n",
    "\n",
    "# Seq2Pat over 3 sequences\n",
    "seq2pat = Seq2Pat(sequences=[[\"A\", \"A\", \"B\", \"A\", \"D\"],\n",
    "                             [\"C\", \"B\", \"A\"],\n",
    "                             [\"C\", \"A\", \"C\", \"D\"]])\n",
    "\n",
    "# Create price attributes\n",
    "price = Attribute(values=[[5, 5, 3, 8, 2],\n",
    "                          [1, 3, 3],\n",
    "                          [4, 5, 2, 1]])\n",
    "\n",
    "# Create a time attribute\n",
    "timestamp = Attribute(values=[[1, 1, 2, 3, 3],\n",
    "                              [3, 8, 9],\n",
    "                              [2, 5, 5, 7]])\n",
    "\n",
    "\n",
    "# Constraint to specify the average price of patterns\n",
    "avg_constraint = seq2pat.add_constraint(3 <= price.average() <= 4)\n",
    "\n",
    "# Find patterns that occur at least twice within average price range\n",
    "results = seq2pat.get_patterns(min_frequency=2)\n",
    "print(results)\n",
    "\n",
    "# Without avg_constraint, there are three patterns: [['B', 'A', 2], ['C', 'A', 2], ['A', 'D', 2]]\n",
    "# With avg_constraint, there is only one pattern: ['A', 'D', 2]\n",
    "# A-D satisfies the constraint becasue \n",
    "#   - Sequence 0: A-D occurs three times with avg(A:5,D:2)=3.5, avg(A:5,D:2)=3.5, avg(A:8,D:2)=5\n",
    "#   - Sequence 2: A-D occur once with avg(A:5,D:1) = 3"
   ]
  },
  {
   "cell_type": "markdown",
   "metadata": {},
   "source": [
    "## Gap Constraint"
   ]
  },
  {
   "cell_type": "code",
   "execution_count": 3,
   "metadata": {
    "pycharm": {
     "is_executing": false
    }
   },
   "outputs": [
    {
     "name": "stdout",
     "output_type": "stream",
     "text": [
      "[['A', 'D', 2]]\n"
     ]
    }
   ],
   "source": [
    "# Seq2Pat over 3 sequences\n",
    "seq2pat = Seq2Pat(sequences=[[\"A\", \"A\", \"B\", \"A\", \"D\"],\n",
    "                             [\"C\", \"B\", \"A\"],\n",
    "                             [\"C\", \"A\", \"C\", \"D\"]])\n",
    "\n",
    "# Create price attributes\n",
    "price = Attribute(values=[[5, 5, 3, 2, 8],\n",
    "                          [1, 3, 3],\n",
    "                          [4, 1, 2, 5]])\n",
    "\n",
    "# Create a time attribute\n",
    "timestamp = Attribute(values=[[1, 1, 2, 3, 3],\n",
    "                              [3, 8, 9],\n",
    "                              [2, 5, 5, 7]])\n",
    "\n",
    "# Constraint to specify the gap between two consecutive prices\n",
    "gap_constraint = seq2pat.add_constraint(4 <= price.gap() <= 6)\n",
    "\n",
    "# Find patterns that occur at least twice within gap between prices range\n",
    "results = seq2pat.get_patterns(min_frequency=2)\n",
    "print(results)\n",
    "\n",
    "# # ['A', 'D', 2]\n",
    "# becasue in sequence 0 : found 'A', 'D' 3 times -> gap(A:5,D:8)=3, avg(A:5,D:8)=3, gap(A:2,D:8)=6\n",
    "# sequence 2: found 'A', 'D' 1 time -> gap(A:1,D:5)=4\n",
    "# 6 and 4 satisfy gap_constraint, then 'A', 'D' occurs in 2 sequences/rows."
   ]
  },
  {
   "cell_type": "markdown",
   "metadata": {},
   "source": [
    "## Span Constraint"
   ]
  },
  {
   "cell_type": "code",
   "execution_count": 4,
   "metadata": {
    "pycharm": {
     "is_executing": false
    }
   },
   "outputs": [
    {
     "name": "stdout",
     "output_type": "stream",
     "text": [
      "[['A', 'D', 2], ['B', 'A', 2]]\n"
     ]
    }
   ],
   "source": [
    "# Seq2Pat over 3 sequences\n",
    "seq2pat = Seq2Pat(sequences=[[\"A\", \"A\", \"B\", \"A\", \"D\"],\n",
    "                             [\"C\", \"B\", \"A\"],\n",
    "                             [\"C\", \"A\", \"C\", \"D\"]])\n",
    "\n",
    "# Create price attributes\n",
    "price = Attribute(values=[[5, 5, 3, 8, 2],\n",
    "                          [1, 3, 3],\n",
    "                          [4, 5, 2, 1]])\n",
    "\n",
    "# Create a time attribute\n",
    "timestamp = Attribute(values=[[1, 1, 2, 3, 3],\n",
    "                              [3, 8, 9],\n",
    "                              [2, 5, 5, 7]])\n",
    "\n",
    "# Constraint to specify the span of time in a pattern. Span is max(attributes) - min(attributes)\n",
    "span_constraint = seq2pat.add_constraint(0 <= timestamp.span() <= 2)\n",
    "\n",
    "# Find patterns that occur at least twice within span of time range\n",
    "results = seq2pat.get_patterns(min_frequency=2)\n",
    "print(results)\n",
    "\n",
    "\n",
    "# # [['B', 'A', 2], ['A', 'D', 2]]\n",
    "\n",
    "# ['B', 'A', 2]\n",
    "# becasue in sequence 0 : found 'B', 'A' 1 time -> span(B:2,A:3)=1\n",
    "# sequence 1: found 'B', 'A' 1 time -> gap(B:8,A:9)=1\n",
    "# all values satisfy span_constraint, then 'B', 'A' occurs in 2 sequences/rows.\n",
    "\n",
    "# ['A', 'D', 2]]\n",
    "# becasue in sequence 0 : found 'A', 'D' 3 times -> span(A:1,D:3)=2, span(A:1,D:3)=2, span(A:3,D:3)=0\n",
    "# sequence 2: found 'A', 'D' 1 time -> gap(A:5,D:7)=2\n",
    "# all values satisfy span_constraint, then 'A', 'D' occurs in 2 sequences/rows."
   ]
  },
  {
   "cell_type": "markdown",
   "metadata": {},
   "source": [
    "## Median Constraint"
   ]
  },
  {
   "cell_type": "code",
   "execution_count": 5,
   "metadata": {
    "pycharm": {
     "is_executing": false
    }
   },
   "outputs": [
    {
     "name": "stdout",
     "output_type": "stream",
     "text": [
      "[['A', 'D', 2]]\n"
     ]
    }
   ],
   "source": [
    "# Seq2Pat over 3 sequences\n",
    "seq2pat = Seq2Pat(sequences=[[\"A\", \"A\", \"B\", \"A\", \"D\"],\n",
    "                             [\"C\", \"B\", \"A\"],\n",
    "                             [\"C\", \"A\", \"C\", \"D\"]])\n",
    "\n",
    "# Create price attributes\n",
    "price = Attribute(values=[[5, 5, 3, 8, 2],\n",
    "                          [1, 3, 3],\n",
    "                          [4, 5, 2, 1]])\n",
    "\n",
    "# Create a time attribute\n",
    "timestamp = Attribute(values=[[1, 1, 2, 3, 3],\n",
    "                              [3, 8, 9],\n",
    "                              [2, 5, 5, 7]])\n",
    "\n",
    "\n",
    "# Constraint to specify the median of prices in a pattern\n",
    "med_constraint = seq2pat.add_constraint(3 <= price.median() <= 4)\n",
    "\n",
    "# Find patterns that occur at least twice within median of prices range\n",
    "results = seq2pat.get_patterns(min_frequency=2)\n",
    "print(results)\n",
    "\n",
    "# ['A', 'D', 2]\n",
    "# because in sequence 0 : found 'A', 'D' 3 times -> meidan(A:5,D:2)=3.5, meidan(A:5,D:2)=3.5, median(A:8,D:2)=5\n",
    "# in sequence 2 : found 'A', 'D' 1 time -> median(A:5,D:1)=3\n",
    "# 3.5 and 3 fall in the range of med_constraint"
   ]
  },
  {
   "cell_type": "code",
   "execution_count": null,
   "metadata": {
    "pycharm": {
     "is_executing": false
    }
   },
   "outputs": [],
   "source": []
  }
 ],
 "metadata": {
  "kernelspec": {
   "display_name": "Python 3 (ipykernel)",
   "language": "python",
   "name": "python3"
  },
  "language_info": {
   "codemirror_mode": {
    "name": "ipython",
    "version": 3
   },
   "file_extension": ".py",
   "mimetype": "text/x-python",
   "name": "python",
   "nbconvert_exporter": "python",
   "pygments_lexer": "ipython3",
   "version": "3.8.12"
  },
  "pycharm": {
   "stem_cell": {
    "cell_type": "raw",
    "metadata": {
     "collapsed": false
    },
    "source": []
   }
  }
 },
 "nbformat": 4,
 "nbformat_minor": 2
}
