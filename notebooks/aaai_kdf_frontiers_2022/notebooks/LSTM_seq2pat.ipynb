{
 "cells": [
  {
   "cell_type": "code",
   "execution_count": null,
   "metadata": {},
   "outputs": [],
   "source": [
    "import os\n",
    "os.chdir('..')"
   ]
  },
  {
   "cell_type": "code",
   "execution_count": null,
   "metadata": {},
   "outputs": [],
   "source": [
    "import pandas as pd\n",
    "import numpy as np\n",
    "from tqdm import tqdm_notebook\n",
    "from ast import literal_eval\n",
    "import gc\n",
    "from pprint import pprint\n",
    "from sklearn.metrics import roc_auc_score\n",
    "from sklearn.metrics import f1_score\n",
    "from sklearn.metrics import precision_recall_curve\n",
    "from sklearn.model_selection import KFold\n",
    "from sklearn.model_selection import train_test_split\n",
    "\n",
    "import keras.backend as K\n",
    "from keras_preprocessing.sequence import pad_sequences\n",
    "\n",
    "import matplotlib\n",
    "import matplotlib.pyplot as plt\n",
    "import seaborn as sns\n",
    "%matplotlib inline\n",
    "\n",
    "import warnings\n",
    "warnings.filterwarnings('ignore')\n",
    "from scripts.utils import log_msg, precision_reall_f1_report\n",
    "from scripts.models import pat_LSTM, CustomStopper, keras_categorical"
   ]
  },
  {
   "cell_type": "code",
   "execution_count": null,
   "metadata": {},
   "outputs": [],
   "source": [
    "args={}\n",
    "args['data'] = 'data/sample_data_features.csv'\n",
    "args['feature_space'] = 'data/feature_names.csv'\n",
    "args['test_size'] = 0.2\n",
    "args['seed'] = 123456\n",
    "\n",
    "args['cv_results'] = 'results/cv_lstm_seq2pat.csv'"
   ]
  },
  {
   "cell_type": "code",
   "execution_count": null,
   "metadata": {},
   "outputs": [],
   "source": [
    "args['embedding_dim'] = 10\n",
    "args['num_lstm_units'] = [32, 64, 128]\n",
    "args['input_len'] = 20\n",
    "args['layer_nodes'] = [[256], [128], [64], [32]]\n",
    "\n",
    "args['NFOLDS'] = 3\n",
    "args['num_classes'] = 2\n",
    "args['batch_size'] =1000\n",
    "args['max_epochs'] = 200\n",
    "args['early_stop_start'] = 50\n",
    "args['verbose'] = 0"
   ]
  },
  {
   "cell_type": "code",
   "execution_count": null,
   "metadata": {},
   "outputs": [],
   "source": [
    "data = pd.read_csv(args['data'])\n",
    "data.head()"
   ]
  },
  {
   "cell_type": "code",
   "execution_count": null,
   "metadata": {},
   "outputs": [],
   "source": [
    "X_train, X_test, y_train, y_test = train_test_split(data.drop(['label'], axis=1), \n",
    "                                                    data[['label']], \n",
    "                                                    test_size=args['test_size'], \n",
    "                                                    random_state=args['seed'])"
   ]
  },
  {
   "cell_type": "code",
   "execution_count": null,
   "metadata": {},
   "outputs": [],
   "source": [
    "X_train_seq = X_train['sequence'].apply(lambda x: [int(i) for i in literal_eval(x)]).values\n",
    "X_train_seq = pad_sequences(X_train_seq, maxlen=args['input_len'])\n",
    "\n",
    "X_test_seq = X_test['sequence'].apply(lambda x: [int(i) for i in literal_eval(x)]).values\n",
    "X_test_seq = pad_sequences(X_test_seq, maxlen=args['input_len'])\n",
    "\n",
    "print('X_train_seq shape:', X_train_seq.shape)\n",
    "print('X_test_seq shape:', X_test_seq.shape)\n",
    "\n",
    "X_train_pat = X_train.drop(['sequence'], axis=1).values\n",
    "X_test_pat = X_test.drop(['sequence'], axis=1).values\n",
    "\n",
    "print('X_train_pat shape:', X_train_pat.shape)\n",
    "print('X_test_pat shape:', X_test_pat.shape)\n",
    "\n",
    "y_train = y_train.values\n",
    "y_test = y_test.values"
   ]
  },
  {
   "cell_type": "markdown",
   "metadata": {},
   "source": [
    "### CV"
   ]
  },
  {
   "cell_type": "code",
   "execution_count": null,
   "metadata": {},
   "outputs": [],
   "source": [
    "folds = KFold(n_splits=args['NFOLDS'], shuffle=True, random_state=args['seed'])\n",
    "\n",
    "vocab_size = np.max(X_train_seq)+1 \n",
    "num_pat_features = X_train_pat.shape[1]\n",
    "\n",
    "results = []\n",
    "for i in range(len(args['num_lstm_units'])):\n",
    "    \n",
    "    for j in range(len(args['layer_nodes'])):\n",
    "\n",
    "        score = 0\n",
    "        splits = folds.split(X_train_seq, y_train)\n",
    "        \n",
    "        for fold_n, (train_index, valid_index) in enumerate(splits):\n",
    "\n",
    "            X_train_seq_cv, X_valid_seq = X_train_seq[train_index], X_train_seq[valid_index]\n",
    "            X_train_pat_cv, X_valid_pat = X_train_pat[train_index], X_train_pat[valid_index]\n",
    "            y_train_cv, y_valid = y_train[train_index], y_train[valid_index]\n",
    "            \n",
    "            K.clear_session()\n",
    "            gc.collect()\n",
    "\n",
    "            model = pat_LSTM(vocab_size, args['embedding_dim'], \n",
    "                             args['num_lstm_units'][i], \n",
    "                             args['input_len'], \n",
    "                             num_pat_features,\n",
    "                             args['num_classes'], \n",
    "                             layer_nodes=args['layer_nodes'][j])\n",
    "\n",
    "            early_stop = CustomStopper(monitor='val_loss', min_delta=0, patience=5, verbose=0, mode='min', \n",
    "                                       start_epoch=args['early_stop_start'],\n",
    "                                       restore_best_weights=True)\n",
    "\n",
    "            y_train_cv_categorical = keras_categorical(y_train_cv, args['num_classes'])\n",
    "            y_valid_categorical = keras_categorical(y_valid, args['num_classes'])\n",
    "\n",
    "            model.fit([X_train_seq_cv, X_train_pat_cv], y_train_cv_categorical, \n",
    "                      batch_size=args['batch_size'], \n",
    "                      epochs=args['max_epochs'], \n",
    "                      validation_data=([X_valid_seq, X_valid_pat], y_valid_categorical),\n",
    "                      verbose=args['verbose'],\n",
    "                      callbacks=[early_stop])\n",
    "\n",
    "            y_pred_valid = model.predict([X_valid_seq, X_valid_pat])\n",
    "#             print(f\"\\n>>> Fold {fold_n + 1} | AUC: {roc_auc_score(y_valid, y_pred_valid[:,1])}\\n\")\n",
    "\n",
    "            score += roc_auc_score(y_valid, y_pred_valid[:, 1]) / args['NFOLDS']\n",
    "\n",
    "            del X_train_seq_cv, X_valid_seq, X_train_pat_cv, X_valid_pat\n",
    "            del y_train_cv, y_train_cv_categorical, y_valid, y_valid_categorical\n",
    "            del model, y_pred_valid, early_stop\n",
    "        \n",
    "        del splits\n",
    "        \n",
    "        results.append({'num_lstm_units' : args['num_lstm_units'][i],\n",
    "                       'layer_nodes' : args['layer_nodes'][j],\n",
    "                       'score': score})\n",
    "\n",
    "        log_msg(f\"\\n>>> num_lstm_units={args['num_lstm_units'][i]} layer_nodes={args['layer_nodes'][j]} Mean AUC = {score}\")\n",
    "        \n",
    "results_df = pd.DataFrame(results)\n",
    "# results_df.head()\n",
    "\n",
    "results_df.to_csv(args['cv_results'], index=False)"
   ]
  },
  {
   "cell_type": "code",
   "execution_count": null,
   "metadata": {},
   "outputs": [],
   "source": [
    "results_df.head(50)"
   ]
  },
  {
   "cell_type": "markdown",
   "metadata": {},
   "source": [
    "### Final train and test"
   ]
  },
  {
   "cell_type": "code",
   "execution_count": null,
   "metadata": {},
   "outputs": [],
   "source": [
    "args['final_params'] = {'num_lstm_units': 128,\n",
    "                        'layer_nodes': [256]}"
   ]
  },
  {
   "cell_type": "code",
   "execution_count": null,
   "metadata": {},
   "outputs": [],
   "source": [
    "X_train_final, X_valid, y_train_final, y_valid = train_test_split(X_train, y_train, \n",
    "                                                                  test_size=0.1, random_state=args['seed'])\n",
    "\n",
    "X_train_final_seq = X_train_final['sequence'].apply(lambda x: [int(i) for i in literal_eval(x)]).values\n",
    "X_train_final_seq = pad_sequences(X_train_final_seq, maxlen=args['input_len'])\n",
    "\n",
    "X_valid_seq = X_valid['sequence'].apply(lambda x: [int(i) for i in literal_eval(x)]).values\n",
    "X_valid_seq = pad_sequences(X_valid_seq, maxlen=args['input_len'])\n",
    "\n",
    "X_train_final_pat = X_train_final.drop(['sequence'], axis=1).values\n",
    "X_valid_pat = X_valid.drop(['sequence'], axis=1).values\n",
    "\n",
    "vocab_size = np.max(X_train_final_seq)+1 \n",
    "num_pat_features = X_train_final_pat.shape[1]\n",
    "\n",
    "K.clear_session()\n",
    "gc.collect()\n",
    "\n",
    "model = pat_LSTM(vocab_size, args['embedding_dim'], \n",
    "                         args['final_params']['num_lstm_units'], \n",
    "                         args['input_len'],\n",
    "                         num_pat_features,\n",
    "                         args['num_classes'], \n",
    "                         layer_nodes=args['final_params']['layer_nodes'])\n",
    "    \n",
    "early_stop = CustomStopper(monitor='val_loss', min_delta=0, patience=5, verbose=0, mode='min', \n",
    "                           start_epoch=args['early_stop_start'],\n",
    "                           restore_best_weights=True)\n",
    "\n",
    "y_train_final_categorical = keras_categorical(y_train_final, args['num_classes'])\n",
    "y_valid_categorical = keras_categorical(y_valid, args['num_classes'])\n",
    "\n",
    "log_msg(\">>> Training \")\n",
    "model.fit([X_train_final_seq, X_train_final_pat], y_train_final_categorical, \n",
    "          batch_size=args['batch_size'], \n",
    "          epochs=args['max_epochs'], \n",
    "          validation_data=([X_valid_seq, X_valid_pat], y_valid_categorical),\n",
    "          verbose=args['verbose'],\n",
    "          callbacks=[early_stop])\n",
    "\n",
    "log_msg(\">>> Finished!\")\n",
    "\n"
   ]
  },
  {
   "cell_type": "code",
   "execution_count": null,
   "metadata": {},
   "outputs": [],
   "source": [
    "y_pred = model.predict([X_valid_seq, X_valid_pat])\n",
    "y_pred = y_pred[:,1]\n",
    "\n",
    "precision, recall, thresholds = precision_recall_curve(y_valid, y_pred)\n",
    "\n",
    "reports = precision_reall_f1_report(precision, recall, thresholds, \n",
    "                                    font_scale=2,\n",
    "                                    linewidth=3,\n",
    "                                    plot=False)\n",
    "\n",
    "threshold = reports[reports['f1']==reports['f1'].max()]['threshold'].values[0]\n",
    "\n",
    "print('Threshold to get the best F1 on validation set: ', threshold)"
   ]
  },
  {
   "cell_type": "code",
   "execution_count": null,
   "metadata": {},
   "outputs": [],
   "source": [
    "# F1 score\n",
    "y_pred = model.predict([X_test_seq, X_test_pat])\n",
    "y_pred = y_pred[:,1]\n",
    "\n",
    "print(f\">>> AUC on Test set: {roc_auc_score(y_test, y_pred)}\\n\")\n",
    "\n",
    "y_pred_label = [1 if i >= threshold else 0 for i in y_pred]\n",
    "\n",
    "print(f\">>> F1 on Test set (threshold {threshold}) : {f1_score(y_test, y_pred_label)}\\n\")\n"
   ]
  },
  {
   "cell_type": "markdown",
   "metadata": {},
   "source": [
    "### Precision, Recall, F1 vs threshold on test set"
   ]
  },
  {
   "cell_type": "code",
   "execution_count": null,
   "metadata": {
    "scrolled": true
   },
   "outputs": [],
   "source": [
    "precision, recall, thresholds = precision_recall_curve(y_test, y_pred)"
   ]
  },
  {
   "cell_type": "code",
   "execution_count": null,
   "metadata": {},
   "outputs": [],
   "source": [
    "reports = precision_reall_f1_report(precision, recall, thresholds, \n",
    "                                    font_scale=2,\n",
    "                                    linewidth=3)"
   ]
  },
  {
   "cell_type": "code",
   "execution_count": null,
   "metadata": {},
   "outputs": [],
   "source": [
    "reports.head()"
   ]
  },
  {
   "cell_type": "code",
   "execution_count": null,
   "metadata": {},
   "outputs": [],
   "source": [
    "print('Best F1: ', reports['f1'].max())\n",
    "print('Threshold:', reports[reports['f1']==reports['f1'].max()]['threshold'].values[0])"
   ]
  },
  {
   "cell_type": "code",
   "execution_count": null,
   "metadata": {},
   "outputs": [],
   "source": []
  }
 ],
 "metadata": {
  "kernelspec": {
   "display_name": "Python 3 (ipykernel)",
   "language": "python",
   "name": "python3"
  },
  "language_info": {
   "codemirror_mode": {
    "name": "ipython",
    "version": 3
   },
   "file_extension": ".py",
   "mimetype": "text/x-python",
   "name": "python",
   "nbconvert_exporter": "python",
   "pygments_lexer": "ipython3",
   "version": "3.8.12"
  }
 },
 "nbformat": 4,
 "nbformat_minor": 4
}
