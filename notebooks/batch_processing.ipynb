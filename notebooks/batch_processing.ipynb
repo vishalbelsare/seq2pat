{
 "cells": [
  {
   "cell_type": "markdown",
   "id": "75f84540",
   "metadata": {},
   "source": [
    "# Batch processing"
   ]
  },
  {
   "cell_type": "code",
   "execution_count": 1,
   "id": "5d60b003",
   "metadata": {},
   "outputs": [],
   "source": [
    "import pandas as pd\n",
    "from ast import literal_eval\n",
    "from time import time\n",
    "from IPython.display import display\n",
    "\n",
    "from sequential.seq2pat import Seq2Pat, Attribute\n",
    "from sequential.pat2feat import Pat2Feat\n",
    "from sequential.dpm import dichotomic_pattern_mining, DichotomicAggregation\n",
    "from sequential.utils import read_data"
   ]
  },
  {
   "cell_type": "code",
   "execution_count": 2,
   "id": "9e59414c",
   "metadata": {},
   "outputs": [],
   "source": [
    "# args = {}\n",
    "# args['data'] = '../tests/data/input.txt'\n",
    "# args['attribute1'] = '../tests/data/input_att1.txt'\n",
    "# args['attribute2'] = '../tests/data/input_att2.txt'\n",
    "\n",
    "args = {}\n",
    "args['data'] = '../tests/data/sample_data.csv'\n",
    "args['min_frequency'] = 0.1"
   ]
  },
  {
   "cell_type": "markdown",
   "id": "ac833cd7",
   "metadata": {},
   "source": [
    "## Sample Data\n",
    "- This notebook is going to run DPM on a sample sequences dataset, which is extracted from the published dataset in E-commerce Shopper Intent Prediction (Requena et al., 2020). The sequences are associated with positive or negative labels, e.g. purchase vs. non-purchase."
   ]
  },
  {
   "cell_type": "code",
   "execution_count": 3,
   "id": "4bb4bf67",
   "metadata": {},
   "outputs": [
    {
     "data": {
      "text/html": [
       "<div>\n",
       "<style scoped>\n",
       "    .dataframe tbody tr th:only-of-type {\n",
       "        vertical-align: middle;\n",
       "    }\n",
       "\n",
       "    .dataframe tbody tr th {\n",
       "        vertical-align: top;\n",
       "    }\n",
       "\n",
       "    .dataframe thead th {\n",
       "        text-align: right;\n",
       "    }\n",
       "</style>\n",
       "<table border=\"1\" class=\"dataframe\">\n",
       "  <thead>\n",
       "    <tr style=\"text-align: right;\">\n",
       "      <th></th>\n",
       "      <th>event_sequence</th>\n",
       "      <th>event_time</th>\n",
       "      <th>label</th>\n",
       "    </tr>\n",
       "  </thead>\n",
       "  <tbody>\n",
       "    <tr>\n",
       "      <th>0</th>\n",
       "      <td>[1, 1, 1, 2, 3, 1, 4, 1, 2, 3, 1, 4, 1, 2, 1, ...</td>\n",
       "      <td>[13118, 17085, 11839, 41749, 35195, 3348, 3309...</td>\n",
       "      <td>1</td>\n",
       "    </tr>\n",
       "    <tr>\n",
       "      <th>1</th>\n",
       "      <td>[2, 1, 2, 1, 2, 1, 2, 1, 2, 3, 1, 2, 3, 1, 2, ...</td>\n",
       "      <td>[50205, 32403, 51377, 4256, 52139, 15020, 6999...</td>\n",
       "      <td>1</td>\n",
       "    </tr>\n",
       "    <tr>\n",
       "      <th>2</th>\n",
       "      <td>[1, 1, 1, 2, 1, 2, 1, 1, 1, 1]</td>\n",
       "      <td>[49647, 45922, 26113, 422659, 9128, 82561, 709...</td>\n",
       "      <td>1</td>\n",
       "    </tr>\n",
       "    <tr>\n",
       "      <th>3</th>\n",
       "      <td>[1, 1, 2, 1, 2, 1, 2, 3, 1, 1, 1, 1, 1, 1, 1, ...</td>\n",
       "      <td>[355031, 50126, 26262, 44512, 39795, 49730, 14...</td>\n",
       "      <td>1</td>\n",
       "    </tr>\n",
       "    <tr>\n",
       "      <th>4</th>\n",
       "      <td>[1, 2, 1, 1, 1]</td>\n",
       "      <td>[19173, 159782, 12811, 88544, 53858]</td>\n",
       "      <td>1</td>\n",
       "    </tr>\n",
       "  </tbody>\n",
       "</table>\n",
       "</div>"
      ],
      "text/plain": [
       "                                      event_sequence  \\\n",
       "0  [1, 1, 1, 2, 3, 1, 4, 1, 2, 3, 1, 4, 1, 2, 1, ...   \n",
       "1  [2, 1, 2, 1, 2, 1, 2, 1, 2, 3, 1, 2, 3, 1, 2, ...   \n",
       "2                     [1, 1, 1, 2, 1, 2, 1, 1, 1, 1]   \n",
       "3  [1, 1, 2, 1, 2, 1, 2, 3, 1, 1, 1, 1, 1, 1, 1, ...   \n",
       "4                                    [1, 2, 1, 1, 1]   \n",
       "\n",
       "                                          event_time  label  \n",
       "0  [13118, 17085, 11839, 41749, 35195, 3348, 3309...      1  \n",
       "1  [50205, 32403, 51377, 4256, 52139, 15020, 6999...      1  \n",
       "2  [49647, 45922, 26113, 422659, 9128, 82561, 709...      1  \n",
       "3  [355031, 50126, 26262, 44512, 39795, 49730, 14...      1  \n",
       "4               [19173, 159782, 12811, 88544, 53858]      1  "
      ]
     },
     "execution_count": 3,
     "metadata": {},
     "output_type": "execute_result"
    }
   ],
   "source": [
    "sequence_df = pd.read_csv(args['data'])\n",
    "sequence_df.head()"
   ]
  },
  {
   "cell_type": "markdown",
   "id": "93c529be",
   "metadata": {},
   "source": [
    "### Transform sequence from string to list"
   ]
  },
  {
   "cell_type": "code",
   "execution_count": 4,
   "id": "c0599427",
   "metadata": {},
   "outputs": [],
   "source": [
    "literal_columns = ['event_sequence', 'event_time']\n",
    "\n",
    "for column in literal_columns:\n",
    "    sequence_df[column] = sequence_df[column].apply(literal_eval)\n",
    "\n",
    "# Input lists\n",
    "sequences = sequence_df['event_sequence'].values.tolist()\n",
    "times = sequence_df['event_time'].values.tolist()"
   ]
  },
  {
   "cell_type": "markdown",
   "id": "f86c5ff3",
   "metadata": {},
   "source": [
    "## Data Exploration"
   ]
  },
  {
   "cell_type": "code",
   "execution_count": 5,
   "id": "414930e3",
   "metadata": {},
   "outputs": [
    {
     "name": "stdout",
     "output_type": "stream",
     "text": [
      "Number of sequences: 2000\n",
      "Maximum length: 155\n",
      "Average length: 28.3755\n",
      "Number of positives: 1000; Number of negatives: 1000\n"
     ]
    }
   ],
   "source": [
    "# EDA for items, max length, average length, number of positive and negative\n",
    "num_sequences = len(sequence_df)\n",
    "max_len = sequence_df['event_sequence'].apply(len).max()\n",
    "avg_len = sequence_df['event_sequence'].apply(len).mean()\n",
    "num_pos = len(sequence_df[sequence_df['label']==1])\n",
    "\n",
    "print(f'Number of sequences: {num_sequences}')\n",
    "print(f'Maximum length: {max_len}')\n",
    "print(f'Average length: {avg_len}')\n",
    "print(f'Number of positives: {num_pos}; Number of negatives: {num_sequences - num_pos}')"
   ]
  },
  {
   "cell_type": "code",
   "execution_count": 6,
   "id": "0a185679",
   "metadata": {},
   "outputs": [
    {
     "name": "stdout",
     "output_type": "stream",
     "text": [
      "Runtime:  8.277  secs\n",
      "[[1, 1, 1977], [1, 1, 1, 1947], [1, 1, 1, 1, 1874], [2, 1, 1754], [1, 1, 1, 1, 1, 1734], [1, 2, 1734], [2, 1, 1, 1683], [1, 1, 2, 1676], [1, 2, 1, 1676], [1, 1, 2, 1, 1609], [1, 2, 1, 1, 1593], [2, 1, 1, 1, 1559], [1, 1, 1, 2, 1558], [2, 2, 1538], [1, 1, 2, 1, 1, 1504], [1, 1, 1, 1, 1, 1, 1478], [1, 1, 1, 2, 1, 1468], [2, 2, 1, 1462], [1, 2, 1, 1, 1, 1457], [1, 2, 2, 1450], [2, 1, 2, 1430], [2, 1, 1, 1, 1, 1407], [1, 1, 1, 1, 2, 1382], [1, 1, 2, 2, 1372], [1, 2, 1, 2, 1366], [2, 2, 1, 1, 1366], [1, 2, 2, 1, 1365], [2, 1, 2, 1, 1357], [1, 1, 2, 1, 1, 1, 1340], [1, 1, 1, 2, 1, 1, 1328]]\n"
     ]
    }
   ],
   "source": [
    "#Run seq2pat on the entire set\n",
    "seq2pat = Seq2Pat(sequences)\n",
    "\n",
    "t = time()\n",
    "patterns_entire_set = seq2pat.get_patterns(min_frequency=args['min_frequency'])\n",
    "print(\"Runtime: \", round((time()-t), 3), \" secs\")\n",
    "\n",
    "print(patterns_entire_set[0:30])"
   ]
  },
  {
   "cell_type": "code",
   "execution_count": 7,
   "id": "e9b7a6b8",
   "metadata": {},
   "outputs": [
    {
     "name": "stdout",
     "output_type": "stream",
     "text": [
      "Runtime:  5.56  secs\n",
      "[[1, 1, 1977], [1, 1, 1, 1947], [1, 1, 1, 1, 1874], [2, 1, 1754], [1, 1, 1, 1, 1, 1734], [1, 2, 1734], [2, 1, 1, 1683], [1, 1, 2, 1676], [1, 2, 1, 1676], [1, 1, 2, 1, 1609], [1, 2, 1, 1, 1593], [2, 1, 1, 1, 1559], [1, 1, 1, 2, 1558], [2, 2, 1538], [1, 1, 2, 1, 1, 1504], [1, 1, 1, 1, 1, 1, 1478], [1, 1, 1, 2, 1, 1468], [2, 2, 1, 1462], [1, 2, 1, 1, 1, 1457], [1, 2, 2, 1450], [2, 1, 2, 1430], [2, 1, 1, 1, 1, 1407], [1, 1, 1, 1, 2, 1382], [1, 1, 2, 2, 1372], [1, 2, 1, 2, 1366], [2, 2, 1, 1, 1366], [1, 2, 2, 1, 1365], [2, 1, 2, 1, 1357], [1, 1, 2, 1, 1, 1, 1340], [1, 1, 1, 2, 1, 1, 1328]]\n",
      "Patterns mined from entire set and batches are the same:  True\n"
     ]
    }
   ],
   "source": [
    "# When batch_size is not None, Seq2Pat will split the sequences dataset into batches \n",
    "# with each batch having batch_size sequences. Pattern mining with constraints will be applied on\n",
    "# each batch. In the end, patterns mined from all batches are aggregated by their frequencies.\n",
    "#\n",
    "# A few parameters are relevant to batch processing:\n",
    "# - batch_size: Number of sequences in one batch\n",
    "# - n_jobs: Number of processes that are used when mining tasks are applied on batches in parallel. n_jobs=2 by default. If -1 all CPUs are used. If -2, all CPUs but one are used.\n",
    "# - discount_factor: Discount factor is used to reduce the minimum row count (min_frequency) when Seq2Pat is applieon a batch. \n",
    "#                    The value should be a float in the range (0, 1.0). A higher value might result in missing patterns of which the frequencies are lower and close to the minimum row count.\n",
    "#                    Discount factor is recommended to be 0.2 (by default) for robustness in practices.\n",
    "\n",
    "# Run seq2pat on batches of sequences\n",
    "seq2pat = Seq2Pat(sequences, batch_size=1000, n_jobs=2, discount_factor=0.2)\n",
    "\n",
    "t = time()\n",
    "patterns_batch = seq2pat.get_patterns(min_frequency=args['min_frequency'])\n",
    "print(\"Runtime: \", round((time()-t),3), \" secs\")\n",
    "\n",
    "\n",
    "print(patterns_batch[0:30])\n",
    "\n",
    "print(\"Patterns mined from entire set and batches are the same: \", patterns_entire_set == patterns_batch)"
   ]
  },
  {
   "cell_type": "markdown",
   "id": "ab2de5b9",
   "metadata": {},
   "source": [
    "- The above analysis shows the patterns mined by running Seq2Pat on the entire set and batches are the same.\n",
    "\n",
    "- We also observe an improvement on runtime. In general, we would recommend to run the batch mode for gaining performance benefits only when data size is large, e.g. hundreds of thousands of sequences, such that the computing costs for mining on entire set is high."
   ]
  }
 ],
 "metadata": {
  "kernelspec": {
   "display_name": "Python 3 (ipykernel)",
   "language": "python",
   "name": "python3"
  },
  "language_info": {
   "codemirror_mode": {
    "name": "ipython",
    "version": 3
   },
   "file_extension": ".py",
   "mimetype": "text/x-python",
   "name": "python",
   "nbconvert_exporter": "python",
   "pygments_lexer": "ipython3",
   "version": "3.8.12"
  }
 },
 "nbformat": 4,
 "nbformat_minor": 5
}
